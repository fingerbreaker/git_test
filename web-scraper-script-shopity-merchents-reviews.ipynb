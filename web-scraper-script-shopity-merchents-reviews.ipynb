{
 "cells": [
  {
   "cell_type": "code",
   "execution_count": 1,
   "metadata": {},
   "outputs": [],
   "source": [
    "import requests\n",
    "from bs4 import BeautifulSoup"
   ]
  },
  {
   "cell_type": "code",
   "execution_count": 2,
   "metadata": {},
   "outputs": [],
   "source": [
    "# Base URL of the review pages\n",
    "base_url = \"https://apps.shopify.com/kwikcheckout/reviews?page={}\""
   ]
  },
  {
   "cell_type": "code",
   "execution_count": 3,
   "metadata": {},
   "outputs": [],
   "source": [
    "# Function to extract merchant names\n",
    "def extract_merchants(page):\n",
    "    url = base_url.format(page)\n",
    "    response = requests.get(url)\n",
    "    if response.status_code == 200:\n",
    "        soup = BeautifulSoup(response.content, \"html.parser\")\n",
    "        # Adjust the selector below based on actual HTML structure\n",
    "        merchants = [div.text.strip() for div in soup.find_all(\"div\", class_=\"tw-text-heading-xs tw-text-fg-primary tw-overflow-hidden tw-text-ellipsis tw-whitespace-nowrap\")]\n",
    "        return merchants\n",
    "    else:\n",
    "        print(f\"Failed to fetch page {page}\")\n",
    "        return []"
   ]
  },
  {
   "cell_type": "code",
   "execution_count": 4,
   "metadata": {},
   "outputs": [],
   "source": [
    "# Loop through pages 1 to 20\n",
    "all_merchants = []\n",
    "for page in range(1, 21):\n",
    "    merchants = extract_merchants(page)\n",
    "    if merchants:\n",
    "        all_merchants.extend(merchants)\n",
    "    else:\n",
    "        break"
   ]
  },
  {
   "cell_type": "code",
   "execution_count": 5,
   "metadata": {},
   "outputs": [
    {
     "name": "stdout",
     "output_type": "stream",
     "text": [
      "Merchant Names: ['Be Me', 'Satvv', 'Drazzel(The Dry Fruits Hub)', 'Artifice Clothing', 'Rudrajap', 'Muvtech', 'Wyngs & Claws', 'Sigma Trends', 'Whites & Pastels', 'Manmaker', 'FrameYourWheels™', 'Label S4U', 'Islamic Home Decor - Largest Collection of Muslim Wall arts in India', 'Wild Child Jewels', 'VERAH', 'TrendOye', 'Aishathemodestcouture', 'Kalyanja', 'Kabir Collection', 'Kozmetyx TTL', 'The Bael Tree', 'Flenc', 'Accessoire By V', 'SAKSHI - The Wedding Store', 'Evari', 'Little Hippies', 'Hersatchels', 'Ekamph', 'ROMEING', 'NixaStyle', 'Sareevala', 'CHAYAM', 'DryM Foods', 'DiraByDimple', 'Caseven', 'Kaleidoz', 'Roam2Joy', 'BestSourceNutrition.com', 'kapthe', 'Luxaore', 'My Store', 'Nakhrewaali', 'Gift Better', 'AKELION', 'Optico Eyewear', 'Zatags', 'TelaNaari', 'NYA CRAZE', 'The Sober Company', 'Veloce Luxe', 'KOZY', 'Silver Lining Jewellery', 'Inuma', 'Shivansh art jewellery', 'SELINTA | Silver Jewellery Store', 'Seven Horses Sports', 'Funny Bones Clothings', 'CLARICA', 'Aadiya Jewels', 'Naatu', 'TooBasic.in', 'Whey91.com', 'Zach Christian Apparel', 'Spice Nest', 'Procrastination', 'Online Proteins', 'Qalam Aur Kagaz', 'NOMAD STORE', 'Dcringe', 'SOWS', 'EeshaGuptaStudio', 'KidsKaf', 'tunez', 'THE BAAGHI CLUB', 'Modestouzeattires', 'Silver Moon Clothing', 'Dresico', 'Samaara Tea', 'ShuShu Babies', 'Amaya Wellness Co', 'Vandana Co.', 'Chikankarigari', 'Nitorious Atelier', 'Vedist Organic', 'BW', 'Aarka Jewelry: Elegant 925 Silver Jewelry', 'Indclues', 'Midora', 'Nokit', 'Meera', 'DilseBazaar', 'Umang', 'alimanpublication.in', 'Emerelle', 'Decorelse', 'JASMEY HOMES', 'CoolCases', 'Glowandblush', 'The RawLogic', 'Fhair', 'ESHOPYE', 'ZenFlex', 'Sude', 'Purple Fit', 'NV Agencies', 'Blue Buddha Publication', 'RediClinic', 'Saawni Ethnicwears', 'PMSHOPPIE', 'DoodleChic', 'Homoda Official', 'dsclothing', 'Health Meets Care', 'Trivalya', 'Shlazio', 'myBageecha', 'Grabbly.in', 'HV COVER', 'Krystal Clear', 'Magic Looks', 'FEADA', 'Memorys', 'Lobha Deepthis', 'Saylestial', 'Fonewallah', 'Kuwait Lady', 'Verit Nutrition', 'Tipsy Closet', 'Ajib', 'Off Axis', 'Warrior Junction', 'The Creation Zone', 'Wagon Horse', 'Blue Brew', 'Rere', 'Desert Bazaar', 'zayraapparel', 'SvappyGoods', 'ZELZIS', 'WallDesign', 'Reps & Revs Evolution', 'Rankersnotes', 'KNOW YOUR INGREDIENTS', 'Earthy Origins', 'Siara Women', 'golghar', 'ctrlplusp.in', 'HOMEOFARM', 'Panchakritya', 'Rivona Naturals', 'VESHNOS', 'Korebi Coffee', 'Webby Toys', 'Buying Hub', 'KOR', 'Riyana Chikankala', 'dealskart', 'BALVINRUSO', 'Ek Kaam Kar', 'Modern Ghar', 'SEA HORSE', 'The Lens world', 'Dancing Cow', 'KATECLO', 'Hipsterrz', 'ROOSHY', 'Ember', 'Promove Nutrition', 'www.vayatistudio.com', 'Blanc Tissu', 'Studio Vaidik', 'Veganic', 'Bharat Tote Bags', 'Jopokart', 'BownBee - Styling Kids The Indian Way', 'Expanse', 'Celebration Gifting', 'Style Haven', 'Caption Home', 'Weaving Mystery', 'Flickers and Flame', 'Jumkey Handmade Jewellery | Handmade with Love ❤️', 'Zestpics', 'Sparkle Spectrum', 'Bebe Unicorn', 'iMuscles Nutrition', 'SUDA', 'VastuJewel', 'BBetter Store', 'Maanraj', 'revaaorganic', 'Adikala - Craft Store', 'Baby Club.in', 'growingpainsclothing', 'AVEE Kids', 'The Bhent Store', 'Charya Ayurveda', 'Black Urban', 'P3', 'EPIX SHOP']\n"
     ]
    }
   ],
   "source": [
    "# Print all extracted merchant names\n",
    "print(\"Merchant Names:\", all_merchants)"
   ]
  },
  {
   "cell_type": "code",
   "execution_count": null,
   "metadata": {},
   "outputs": [],
   "source": []
  }
 ],
 "metadata": {
  "kernelspec": {
   "display_name": "Python 3",
   "language": "python",
   "name": "python3"
  },
  "language_info": {
   "codemirror_mode": {
    "name": "ipython",
    "version": 3
   },
   "file_extension": ".py",
   "mimetype": "text/x-python",
   "name": "python",
   "nbconvert_exporter": "python",
   "pygments_lexer": "ipython3",
   "version": "3.10.12"
  }
 },
 "nbformat": 4,
 "nbformat_minor": 2
}
