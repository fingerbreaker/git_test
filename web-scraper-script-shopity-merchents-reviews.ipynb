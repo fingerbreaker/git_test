{
 "cells": [
  {
   "cell_type": "code",
   "execution_count": 1,
   "metadata": {},
   "outputs": [],
   "source": [
    "import requests\n",
    "from bs4 import BeautifulSoup"
   ]
  },
  {
   "cell_type": "code",
   "execution_count": 2,
   "metadata": {},
   "outputs": [],
   "source": [
    "# Base URL of the review pages\n",
    "base_url = \"https://apps.shopify.com/kwikcheckout/reviews?page={}\""
   ]
  },
  {
   "cell_type": "code",
   "execution_count": 11,
   "metadata": {},
   "outputs": [],
   "source": [
    "# Function to extract merchant names\n",
    "def extract_merchants(page):\n",
    "    url = base_url.format(page)\n",
    "    response = requests.get(url)\n",
    "    if response.status_code == 200:\n",
    "        soup = BeautifulSoup(response.content, \"html.parser\")\n",
    "        # Adjust the selector below based on actual HTML structure\n",
    "        merchants = [div.text.strip() for div in soup.find_all(\"div\", class_=\"tw-text-heading-xs tw-text-fg-primary tw-overflow-hidden tw-text-ellipsis tw-whitespace-nowrap\")]\n",
    "        return merchants\n",
    "    else:\n",
    "        print(f\"Failed to fetch page {page}\")\n",
    "        return []"
   ]
  },
  {
   "cell_type": "code",
   "execution_count": 12,
   "metadata": {},
   "outputs": [],
   "source": [
    "# Loop through pages 1 to 20\n",
    "all_merchants = []\n",
    "for page in range(1, 21):\n",
    "    merchants = extract_merchants(page)\n",
    "    if merchants:\n",
    "        all_merchants.extend(merchants)\n",
    "    else:\n",
    "        break"
   ]
  },
  {
   "cell_type": "code",
   "execution_count": 13,
   "metadata": {},
   "outputs": [
    {
     "name": "stdout",
     "output_type": "stream",
     "text": [
      "Merchant Names: ['Label S4U', 'NV Agencies', 'Blue Buddha Publication', 'THE BAAGHI CLUB', 'myBageecha', 'DilseBazaar', 'dsclothing', 'ctrlplusp.in', 'Off Axis', 'CoolCases', 'Blue Brew', 'Adikala - Craft Store', 'Rankersnotes', 'HOMEOFARM', 'Saylestial', 'Ek Kaam Kar', 'WallDesign', 'Vintage Velvet', 'MEEMORA FROCKS', 'Black Urban', 'Charya Ayurveda', 'SvappyGoods', 'Weaving Mystery', 'Siara Women', 'golghar', 'ZenFlex', 'VESHNOS', 'Korebi Coffee', 'Ember', 'TheSockStreet', 'Lobha Deepthis', 'Jumkey Handmade Jewellery | Handmade with Love ❤️', 'Indclues', 'Style Haven', 'www.vayatistudio.com', 'Warrior Junction', 'Veganic', 'The Lens world', 'Jopokart', 'Ink Fusion', 'Mad Monkey', 'Ethnicroop', 'Caption Home', 'growingpainsclothing', 'Flickers and Flame', 'Kiddale123', 'LVLL', 'Studio Vaidik', 'Funkez', 'Expanse', 'Golden Glow', 'TruHomes', 'SEA HORSE', 'Prestige Styles', 'Prident', 'BBetter Store', 'Celebration Gifting', 'thebakingtools.com', 'KiddySafe Store', 'Unstable Clothing', 'Maanraj', 'Unique store', 'Sanatan Vastra', 'ZELZIS', 'The Bhent Store', 'VastuJewel', 'Baby Club.in', 'P3', 'Lavitate', 'Bebe Unicorn', 'World Of Gadgets', 'Bharat Tote Bags', 'Buying Hub', 'dealskart', 'My Store', 'Rere', 'Trivalya', 'Luxe living', 'xedbex', 'Omace Brands Private Limited', 'Veda Vital Nutrition', 'AMOLDO Fashion', 'KYNTHIA', 'Glammart', 'Purely Femme', 'Gynoveda', 'runeoriginals', 'Rivona Naturals', 'The Jade Highlands', 'KNOW YOUR INGREDIENTS', 'Earthy Origins', 'Hemant Jewellers', 'Zestpics', 'Urban Era', 'INDIPEEPAL', 'Wagon Horse', 'Dancing Cow', 'Levoyaa', 'Samaa India', 'Panchakritya', 'Mindbrush', 'DUO', 'QAVA', 'Bhavdiya Aesthetic', 'Valphah', 'Webby Toys', 'KOR', 'revaaorganic', 'Inhanss Fashion', 'Fusion Mart', 'Sportocraft Store', 'damaroostore', 'Mangalwari', 'Crumbbs', 'BownBee - Styling Kids The Indian Way', 'Suprecool', 'Blanc Tissu', 'Rashmiwala Warp & Weft Pvt. Ltd.', 'Promove Nutrition', 'Bioquench', 'LocketKart', 'Baani Audio', 'Tamas Pure Ayurveda', 'Faun Walk', 'ROOPWATI FASHION', 'Pakao Mat', 'Bhoj Masale', 'Cultrrr Lifestyles', 'The Gears', 'Only Gain', 'Slobberman.dog', 'REGLOQUE', 'Tipsy Closet', 'Sezpro Nutrition', 'Lazy Lush', 'Mirea', 'TrendyFashionBazar', 'gritandflair', 'Black & Gold', 'Gencraze', 'Breatheclo', 'Bloomastra', 'Ananad Sarees', 'Vrija', 'Enhub', 'SUDA', 'BALVINRUSO', 'ZENIT', 'Badttamizz Apparels & Lifestyles', 'AARWAA', 'Treasure Tales', 'Kanget India', 'cobo', 'LEOALTAIR', 'INTERSTELLAR', 'Klismosbysculpt', 'Kokoy Toolik', 'Tatvika', 'Notch Buy', 'Kevlar', 'D.ARTISTS', 'Terra Actives', 'Shomor Fashions by B M Jewellery', 'The Shopping Tree', 'Rawayi', 'Peach and Panda', 'Fashion Fixture', 'Olive Square', 'Rabbito', 'Qurist', 'Riyaasat Official', 'horizonehaven', 'Studio Creative', 'SHOPCOP', 'Al shamamaah', \"Shop99 : India's No#1 Online Store\", 'Chapter26', 'SEVENSE', 'Archaic Store', 'DecoAura', 'Rajeshwari Enterprises', 'Funk Vibes', 'Raahha Luggage & Bags', 'Strylle', 'Archadia', 'PETGREEN', 'Rodex Clothing', 'Crystal Heal', 'Gloriza', 'Theleathercharms', 'Ethnic Trends By Shaheen', 'Hot Carts', 'Weekendboots', 'Luster Cosmetics', 'Mohsin Premium Fragrance', 'Health N Wellness Shop', 'Bharat Technologies', 'Alka Hari Pvt Ltd', 'Riwaayat-e-chikan']\n"
     ]
    }
   ],
   "source": [
    "# Print all extracted merchant names\n",
    "print(\"Merchant Names:\", all_merchants)"
   ]
  },
  {
   "cell_type": "code",
   "execution_count": null,
   "metadata": {},
   "outputs": [],
   "source": []
  }
 ],
 "metadata": {
  "kernelspec": {
   "display_name": "Python 3",
   "language": "python",
   "name": "python3"
  },
  "language_info": {
   "codemirror_mode": {
    "name": "ipython",
    "version": 3
   },
   "file_extension": ".py",
   "mimetype": "text/x-python",
   "name": "python",
   "nbconvert_exporter": "python",
   "pygments_lexer": "ipython3",
   "version": "3.10.12"
  }
 },
 "nbformat": 4,
 "nbformat_minor": 2
}
